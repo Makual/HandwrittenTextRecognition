{
  "nbformat": 4,
  "nbformat_minor": 0,
  "metadata": {
    "colab": {
      "name": "Text_Recognition_Dev",
      "provenance": [],
      "collapsed_sections": []
    },
    "kernelspec": {
      "display_name": "Python 3",
      "name": "python3"
    },
    "language_info": {
      "name": "python"
    },
    "accelerator": "GPU"
  },
  "cells": [
    {
      "cell_type": "code",
      "metadata": {
        "id": "Zm30toxfXa0a"
      },
      "source": [
        "from scipy.ndimage import measurements,morphology\n",
        "from PIL import Image\n",
        "import numpy as np\n",
        "from google.colab.patches import cv2_imshow\n",
        "import cv2\n",
        "import numpy as np\n",
        "import pandas as pd\n",
        "import matplotlib.pyplot as plt\n",
        "\n",
        "from keras.models import Sequential\n",
        "from keras.layers import Dense, Dropout, Flatten, Conv2D, MaxPool2D\n",
        "from keras.preprocessing.image import ImageDataGenerator\n",
        "from keras.callbacks import ReduceLROnPlateau\n",
        "from keras.utils.np_utils import to_categorical"
      ],
      "execution_count": 2,
      "outputs": []
    },
    {
      "cell_type": "code",
      "metadata": {
        "id": "XB-xBlwsTm-s"
      },
      "source": [
        "from tensorflow.compat.v1 import keras\n",
        "import tensorflow as tf\n",
        "\n",
        "config = tf.compat.v1.ConfigProto( device_count = {'GPU': 1 , 'CPU': 8} ) \n",
        "sess = tf.compat.v1.Session(config=config) \n",
        "tf.compat.v1.keras.backend.set_session(sess)"
      ],
      "execution_count": 5,
      "outputs": []
    },
    {
      "cell_type": "markdown",
      "metadata": {
        "id": "C6SbP4bBDxQH"
      },
      "source": [
        "Обучение модели распознавания отдельных символов"
      ]
    },
    {
      "cell_type": "code",
      "metadata": {
        "id": "uoCODIpgDYLk"
      },
      "source": [
        "x = np.load('/content/drive/MyDrive/ColabFiles/Text_Recognition/save64_X_D.npy')\n",
        "y = np.load('/content/drive/MyDrive/ColabFiles/Text_Recognition/save64_Y_D.npy')"
      ],
      "execution_count": 17,
      "outputs": []
    },
    {
      "cell_type": "code",
      "metadata": {
        "colab": {
          "base_uri": "https://localhost:8080/"
        },
        "id": "BW8dxD11IWmO",
        "outputId": "44c68c18-3306-4220-fed9-e95ce62d8ce4"
      },
      "source": [
        "print(x.shape,y.shape)"
      ],
      "execution_count": 18,
      "outputs": [
        {
          "output_type": "stream",
          "name": "stdout",
          "text": [
            "(56672, 64, 64) (56672,)\n"
          ]
        }
      ]
    },
    {
      "cell_type": "code",
      "metadata": {
        "id": "eobBzf6vQgSW",
        "colab": {
          "base_uri": "https://localhost:8080/"
        },
        "outputId": "bd391b6d-0861-4ab8-87dd-4a6a9f84c956"
      },
      "source": [
        "Y_train = to_categorical(pd.Series(y).astype('category').cat.codes, num_classes = 71)\n",
        "Y_train"
      ],
      "execution_count": 19,
      "outputs": [
        {
          "output_type": "execute_result",
          "data": {
            "text/plain": [
              "array([[1., 0., 0., ..., 0., 0., 0.],\n",
              "       [1., 0., 0., ..., 0., 0., 0.],\n",
              "       [1., 0., 0., ..., 0., 0., 0.],\n",
              "       ...,\n",
              "       [0., 0., 0., ..., 0., 0., 0.],\n",
              "       [0., 0., 0., ..., 0., 0., 0.],\n",
              "       [0., 0., 0., ..., 0., 0., 0.]], dtype=float32)"
            ]
          },
          "metadata": {},
          "execution_count": 19
        }
      ]
    },
    {
      "cell_type": "code",
      "metadata": {
        "id": "p91cdHM3hKwY"
      },
      "source": [
        "letDict = pd.Series(y).unique()\n",
        "catDict = pd.Series(y).astype('category').cat.codes.unique()\n",
        "dic = {}\n",
        "\n",
        "for i in range(len(catDict)):\n",
        "  dic[str(catDict[i])] = letDict[i] "
      ],
      "execution_count": 20,
      "outputs": []
    },
    {
      "cell_type": "code",
      "metadata": {
        "colab": {
          "base_uri": "https://localhost:8080/"
        },
        "id": "-L4Ze_QPAHP2",
        "outputId": "417b5289-9960-463b-c174-b534d0aea667"
      },
      "source": [
        "y = np.load('/content/drive/MyDrive/ColabFiles/Text_Recognition/save64_Y_D.npy')\n",
        "letDict = pd.Series(y).unique()\n",
        "catDict = pd.Series(y).astype('category').cat.codes.unique()\n",
        "dic = {}\n",
        "revDic = {}\n",
        "for i in range(len(catDict)):\n",
        "  dic[str(catDict[i])] = letDict[i] \n",
        "  revDic[letDict[i]] = str(catDict[i])\n",
        "print(dic)\n",
        "print(revDic)"
      ],
      "execution_count": 22,
      "outputs": [
        {
          "output_type": "stream",
          "name": "stdout",
          "text": [
            "{'0': 'а', '1': 'б', '2': 'в', '3': 'г', '4': 'д', '5': 'е', '6': 'ж', '7': 'з', '8': 'и', '9': 'й', '10': 'к', '11': 'л', '12': 'м', '13': 'н', '14': 'о', '15': 'п', '16': 'р', '17': 'с', '18': 'т', '19': 'у', '20': 'ф', '21': 'х', '22': 'ц', '23': 'ч', '24': 'ш', '25': 'щ', '26': 'ъ', '27': 'ы', '28': 'ь', '29': 'э', '30': 'ю', '31': 'я'}\n",
            "{'а': '0', 'б': '1', 'в': '2', 'г': '3', 'д': '4', 'е': '5', 'ж': '6', 'з': '7', 'и': '8', 'й': '9', 'к': '10', 'л': '11', 'м': '12', 'н': '13', 'о': '14', 'п': '15', 'р': '16', 'с': '17', 'т': '18', 'у': '19', 'ф': '20', 'х': '21', 'ц': '22', 'ч': '23', 'ш': '24', 'щ': '25', 'ъ': '26', 'ы': '27', 'ь': '28', 'э': '29', 'ю': '30', 'я': '31'}\n"
          ]
        }
      ]
    },
    {
      "cell_type": "code",
      "metadata": {
        "colab": {
          "base_uri": "https://localhost:8080/"
        },
        "id": "GFNbtpxaQpr6",
        "outputId": "6427ee88-ccb7-472a-b058-62b461dac4a3"
      },
      "source": [
        "Y_train.shape"
      ],
      "execution_count": 23,
      "outputs": [
        {
          "output_type": "execute_result",
          "data": {
            "text/plain": [
              "(56672, 71)"
            ]
          },
          "metadata": {},
          "execution_count": 23
        }
      ]
    },
    {
      "cell_type": "code",
      "metadata": {
        "id": "O-2yYW27Pvv4"
      },
      "source": [
        "train_X = x.astype(int)\n",
        "train_X = ((train_X*255)-127.5)/127.5\n",
        "train_X = np.expand_dims(train_X,-1)"
      ],
      "execution_count": 24,
      "outputs": []
    },
    {
      "cell_type": "code",
      "metadata": {
        "colab": {
          "base_uri": "https://localhost:8080/"
        },
        "id": "-gruHx4NQyI3",
        "outputId": "c0705f7b-a0b1-4429-f9c5-220927948c1b"
      },
      "source": [
        "train_X.shape"
      ],
      "execution_count": 25,
      "outputs": [
        {
          "output_type": "execute_result",
          "data": {
            "text/plain": [
              "(56672, 64, 64, 1)"
            ]
          },
          "metadata": {},
          "execution_count": 25
        }
      ]
    },
    {
      "cell_type": "code",
      "metadata": {
        "id": "0BpTuVaJpmFv"
      },
      "source": [
        "s=np.arange(train_X.shape[0])\n",
        "np.random.seed(666)\n",
        "np.random.shuffle(s)\n",
        "train_X=train_X[s]\n",
        "Y_train=Y_train[s]"
      ],
      "execution_count": 26,
      "outputs": []
    },
    {
      "cell_type": "code",
      "metadata": {
        "id": "i38-t-o2OlDp"
      },
      "source": [
        "model = Sequential()\n",
        "\n",
        "model.add(Conv2D(filters = 32, kernel_size = (5,5),padding = 'Same', \n",
        "                 activation ='relu', input_shape = (64,64,1)))\n",
        "model.add(Conv2D(filters = 32, kernel_size = (5,5),padding = 'Same', \n",
        "                 activation ='relu'))\n",
        "model.add(MaxPool2D(pool_size=(2,2)))\n",
        "model.add(Dropout(0.20))\n",
        "\n",
        "\n",
        "model.add(Conv2D(filters = 64, kernel_size = (3,3),padding = 'Same', \n",
        "                 activation ='relu'))\n",
        "model.add(Conv2D(filters = 64, kernel_size = (3,3),padding = 'Same', \n",
        "                 activation ='relu'))\n",
        "model.add(MaxPool2D(pool_size=(2,2), strides=(2,2)))\n",
        "model.add(Dropout(0.20))\n",
        "\n",
        "model.add(Conv2D(filters = 128, kernel_size = (3,3),padding = 'Same', \n",
        "                 activation ='relu'))\n",
        "model.add(Conv2D(filters = 128, kernel_size = (3,3),padding = 'Same', \n",
        "                 activation ='relu'))\n",
        "model.add(MaxPool2D(pool_size=(2,2), strides=(2,2)))\n",
        "model.add(Dropout(0.20))\n",
        "\n",
        "\n",
        "model.add(Flatten())\n",
        "model.add(Dense(400, activation = \"relu\"))\n",
        "model.add(Dropout(0.4))\n",
        "model.add(Dense(71, activation = \"softmax\"))"
      ],
      "execution_count": 27,
      "outputs": []
    },
    {
      "cell_type": "code",
      "metadata": {
        "colab": {
          "base_uri": "https://localhost:8080/"
        },
        "id": "JYnotkVGBGF1",
        "outputId": "47f06533-a925-413d-f4fb-73591a8396e7"
      },
      "source": [
        "model.summary()"
      ],
      "execution_count": 28,
      "outputs": [
        {
          "output_type": "stream",
          "name": "stdout",
          "text": [
            "Model: \"sequential\"\n",
            "_________________________________________________________________\n",
            "Layer (type)                 Output Shape              Param #   \n",
            "=================================================================\n",
            "conv2d (Conv2D)              (None, 64, 64, 32)        832       \n",
            "_________________________________________________________________\n",
            "conv2d_1 (Conv2D)            (None, 64, 64, 32)        25632     \n",
            "_________________________________________________________________\n",
            "max_pooling2d (MaxPooling2D) (None, 32, 32, 32)        0         \n",
            "_________________________________________________________________\n",
            "dropout (Dropout)            (None, 32, 32, 32)        0         \n",
            "_________________________________________________________________\n",
            "conv2d_2 (Conv2D)            (None, 32, 32, 64)        18496     \n",
            "_________________________________________________________________\n",
            "conv2d_3 (Conv2D)            (None, 32, 32, 64)        36928     \n",
            "_________________________________________________________________\n",
            "max_pooling2d_1 (MaxPooling2 (None, 16, 16, 64)        0         \n",
            "_________________________________________________________________\n",
            "dropout_1 (Dropout)          (None, 16, 16, 64)        0         \n",
            "_________________________________________________________________\n",
            "conv2d_4 (Conv2D)            (None, 16, 16, 128)       73856     \n",
            "_________________________________________________________________\n",
            "conv2d_5 (Conv2D)            (None, 16, 16, 128)       147584    \n",
            "_________________________________________________________________\n",
            "max_pooling2d_2 (MaxPooling2 (None, 8, 8, 128)         0         \n",
            "_________________________________________________________________\n",
            "dropout_2 (Dropout)          (None, 8, 8, 128)         0         \n",
            "_________________________________________________________________\n",
            "flatten (Flatten)            (None, 8192)              0         \n",
            "_________________________________________________________________\n",
            "dense (Dense)                (None, 400)               3277200   \n",
            "_________________________________________________________________\n",
            "dropout_3 (Dropout)          (None, 400)               0         \n",
            "_________________________________________________________________\n",
            "dense_1 (Dense)              (None, 71)                28471     \n",
            "=================================================================\n",
            "Total params: 3,608,999\n",
            "Trainable params: 3,608,999\n",
            "Non-trainable params: 0\n",
            "_________________________________________________________________\n"
          ]
        }
      ]
    },
    {
      "cell_type": "code",
      "metadata": {
        "id": "0tmR30MMPUqZ"
      },
      "source": [
        "import tensorflow as tf\n",
        "optimizer = tf.keras.optimizers.RMSprop(learning_rate=0.001, rho=0.9, epsilon=1e-08, decay=0.0)"
      ],
      "execution_count": 29,
      "outputs": []
    },
    {
      "cell_type": "code",
      "metadata": {
        "id": "OH0zenLOPYDG"
      },
      "source": [
        "model.compile(optimizer = optimizer , loss = \"categorical_crossentropy\", metrics=[\"accuracy\"])"
      ],
      "execution_count": 30,
      "outputs": []
    },
    {
      "cell_type": "code",
      "metadata": {
        "colab": {
          "base_uri": "https://localhost:8080/"
        },
        "id": "91vYpTU_PgmW",
        "outputId": "cb8440d4-4caa-4304-a364-eb8698ef4243"
      },
      "source": [
        "history = model.fit(train_X, Y_train, batch_size = 86, epochs = 4)"
      ],
      "execution_count": 33,
      "outputs": [
        {
          "output_type": "stream",
          "name": "stdout",
          "text": [
            "Epoch 1/4\n",
            "659/659 [==============================] - 54s 83ms/step - loss: 0.4505 - accuracy: 0.8676\n",
            "Epoch 2/4\n",
            "659/659 [==============================] - 53s 81ms/step - loss: 0.2442 - accuracy: 0.9266\n",
            "Epoch 3/4\n",
            "659/659 [==============================] - 53s 81ms/step - loss: 0.1906 - accuracy: 0.9431\n",
            "Epoch 4/4\n",
            "659/659 [==============================] - 53s 81ms/step - loss: 0.1642 - accuracy: 0.9489\n"
          ]
        }
      ]
    },
    {
      "cell_type": "code",
      "metadata": {
        "colab": {
          "base_uri": "https://localhost:8080/",
          "height": 265
        },
        "id": "DBSv6RXovbim",
        "outputId": "81e8a4c1-bb8d-4ccc-96ee-41d0986efd84"
      },
      "source": [
        "fig, ax = plt.subplots(2,1)\n",
        "ax[0].plot(history.history['loss'], color='b', label=\"Training loss\")\n",
        "legend = ax[0].legend(loc='best', shadow=True)\n",
        "\n",
        "ax[1].plot(history.history['accuracy'], color='b', label=\"Training accuracy\")\n",
        "legend = ax[1].legend(loc='best', shadow=True)"
      ],
      "execution_count": 34,
      "outputs": [
        {
          "output_type": "display_data",
          "data": {
            "image/png": "[encoded data removed]",
            "text/plain": [
              "<Figure size 432x288 with 2 Axes>"
            ]
          },
          "metadata": {
            "needs_background": "light"
          }
        }
      ]
    },
    {
      "cell_type": "code",
      "metadata": {
        "id": "Dhy3-KvnLnD8"
      },
      "source": [
        "model.save('/content/drive/MyDrive/ColabFiles/Text_Recognition/signRecog_101900_model_D.h5')"
      ],
      "execution_count": null,
      "outputs": []
    },
    {
      "cell_type": "markdown",
      "metadata": {
        "id": "XOBxibUdWG4o"
      },
      "source": [
        "Пробное распознование символа\n"
      ]
    },
    {
      "cell_type": "code",
      "metadata": {
        "id": "6s7yBEDKMsZM"
      },
      "source": [
        "model = keras.models.load_model('/content/drive/MyDrive/ColabFiles/Text_Recognition/signRecog_101900_model_D.h5')"
      ],
      "execution_count": 35,
      "outputs": []
    },
    {
      "cell_type": "code",
      "metadata": {
        "id": "iKsf36b3WfTj"
      },
      "source": [
        "img = cv2.imread(\"/content/drive/MyDrive/ColabFiles/Text_Recognition/HelloWorld.jpg\")\n",
        "coords = get_LettersCoord(img,False)[7]\n",
        "img = cv2.cvtColor(img,cv2.COLOR_BGR2GRAY)"
      ],
      "execution_count": 37,
      "outputs": []
    },
    {
      "cell_type": "code",
      "metadata": {
        "colab": {
          "base_uri": "https://localhost:8080/",
          "height": 797
        },
        "id": "M6LBPAZxXaDY",
        "outputId": "d6e7f7ba-ea2f-4fb8-e5e0-e3366d53fbce"
      },
      "source": [
        "cv2_imshow(img)"
      ],
      "execution_count": 38,
      "outputs": [
        {
          "output_type": "display_data",
          "data": {
            "image/png": "[encoded data removed]",
            "text/plain": [
              "<PIL.Image.Image image mode=L size=1080x780 at 0x7F26A59B8E50>"
            ]
          },
          "metadata": {}
        }
      ]
    },
    {
      "cell_type": "code",
      "metadata": {
        "colab": {
          "base_uri": "https://localhost:8080/",
          "height": 153
        },
        "id": "B6nXNjRbeNA_",
        "outputId": "76c6ac38-e065-42d5-edf8-dcbb17c4b8b1"
      },
      "source": [
        "cv2_imshow(img[coords['y']-20:coords['y']+coords['h']+20,coords['x']-20:coords['x']+coords['w']+20])\n",
        "let = np.array(img[coords['y']-20:coords['y']+coords['h']+20,coords['x']-20:coords['x']+coords['w']+20])\n",
        "let.shape"
      ],
      "execution_count": 39,
      "outputs": [
        {
          "output_type": "display_data",
          "data": {
            "image/png": "[encoded data removed]",
            "text/plain": [
              "<PIL.Image.Image image mode=L size=83x118 at 0x7F26A5916D90>"
            ]
          },
          "metadata": {}
        },
        {
          "output_type": "execute_result",
          "data": {
            "text/plain": [
              "(118, 83)"
            ]
          },
          "metadata": {},
          "execution_count": 39
        }
      ]
    },
    {
      "cell_type": "code",
      "metadata": {
        "id": "SwFpHqf4dn6c"
      },
      "source": [
        "let = (let-127.5)/127.5"
      ],
      "execution_count": 40,
      "outputs": []
    },
    {
      "cell_type": "code",
      "metadata": {
        "id": "Q7RaoIp1YrTd"
      },
      "source": [
        "def letterPrepare(im,size):\n",
        "  if im.shape[0] < im.shape[1]:\n",
        "    im = np.append(im,np.ones((im.shape[1]-im.shape[0],im.shape[1])),0)\n",
        "  '''elif im.shape[1] < im.shape[0]:\n",
        "    for i in range(len(im)):\n",
        "      im[i] = np.append(im[i],np.ones(im.shape[0]-im.shape[1]))\n",
        "  '''\n",
        "  im = cv2.resize(im,size)\n",
        "\n",
        "  return im\n"
      ],
      "execution_count": 41,
      "outputs": []
    },
    {
      "cell_type": "code",
      "metadata": {
        "colab": {
          "base_uri": "https://localhost:8080/",
          "height": 81
        },
        "id": "qwsU4mJ9m0Xd",
        "outputId": "f7394002-cac6-4ff5-ea20-4841257dfad7"
      },
      "source": [
        "def normalizeImage(img):\n",
        "  mean = np.mean(img)\n",
        "  shape = img.shape\n",
        "  img = np.reshape(img,(img.size))\n",
        "\n",
        "  f = lambda num: ((int(num >= mean-0.2)-1)*2) + 1\n",
        "\n",
        "  img = np.array(list(map(f,img)))\n",
        "\n",
        "  img = img.reshape(shape)\n",
        "\n",
        "  return img\n",
        "\n",
        "\n",
        "test = letterPrepare(let,(64,64))\n",
        "\n",
        "\n",
        "\n",
        "\n",
        "cv2_imshow(normalizeImage(test)*255)"
      ],
      "execution_count": 42,
      "outputs": [
        {
          "output_type": "display_data",
          "data": {
            "image/png": "[encoded data removed]",
            "text/plain": [
              "<PIL.Image.Image image mode=L size=64x64 at 0x7F26A5922F50>"
            ]
          },
          "metadata": {}
        }
      ]
    },
    {
      "cell_type": "code",
      "metadata": {
        "colab": {
          "base_uri": "https://localhost:8080/",
          "height": 99
        },
        "id": "226E9oAiZ0iS",
        "outputId": "3980a65c-7787-47ee-bb10-473ea74004b6"
      },
      "source": [
        "cv2_imshow(letterPrepare(let,(64,64))*255)\n",
        "let = letterPrepare(let,(64,64))\n",
        "let = normalizeImage(let)\n",
        "let = np.expand_dims(let, -1)\n",
        "let.shape"
      ],
      "execution_count": 43,
      "outputs": [
        {
          "output_type": "display_data",
          "data": {
            "image/png": "[encoded data removed]",
            "text/plain": [
              "<PIL.Image.Image image mode=L size=64x64 at 0x7F26A5936D90>"
            ]
          },
          "metadata": {}
        },
        {
          "output_type": "execute_result",
          "data": {
            "text/plain": [
              "(64, 64, 1)"
            ]
          },
          "metadata": {},
          "execution_count": 43
        }
      ]
    },
    {
      "cell_type": "code",
      "metadata": {
        "colab": {
          "base_uri": "https://localhost:8080/"
        },
        "id": "_RZZSD9PcrMx",
        "outputId": "9df1aab9-7964-4d5d-acd9-8bcc1f5c4577"
      },
      "source": [
        "let.shape"
      ],
      "execution_count": 44,
      "outputs": [
        {
          "output_type": "execute_result",
          "data": {
            "text/plain": [
              "(64, 64, 1)"
            ]
          },
          "metadata": {},
          "execution_count": 44
        }
      ]
    },
    {
      "cell_type": "code",
      "metadata": {
        "id": "xAF4CSdMWSXi",
        "colab": {
          "base_uri": "https://localhost:8080/",
          "height": 36
        },
        "outputId": "3bcdab22-4371-4df3-caab-c3ed221c71db"
      },
      "source": [
        "pos = np.argmax(model.predict(np.array([let])))\n",
        "dic[str(pos)]"
      ],
      "execution_count": 45,
      "outputs": [
        {
          "output_type": "execute_result",
          "data": {
            "application/vnd.google.colaboratory.intrinsic+json": {
              "type": "string"
            },
            "text/plain": [
              "'и'"
            ]
          },
          "metadata": {},
          "execution_count": 45
        }
      ]
    },
    {
      "cell_type": "markdown",
      "metadata": {
        "id": "b7X3IuwdkFHO"
      },
      "source": [
        "Преобразование слова в массив картинок и предсказание по каждой букве\n",
        "\n"
      ]
    },
    {
      "cell_type": "code",
      "metadata": {
        "id": "MloQAhjbHZUr"
      },
      "source": [
        "def heapify(nums, heap_size, root_index, coord):  \n",
        "    largest = root_index\n",
        "    left_child = (2 * root_index) + 1\n",
        "    right_child = (2 * root_index) + 2\n",
        "\n",
        "    if left_child < heap_size and nums[left_child][coord] > nums[largest][coord]:\n",
        "        largest = left_child\n",
        "\n",
        "\n",
        "    if right_child < heap_size and nums[right_child][coord] > nums[largest][coord]:\n",
        "        largest = right_child\n",
        "\n",
        "\n",
        "    if largest != root_index:\n",
        "        nums[root_index], nums[largest] = nums[largest], nums[root_index]\n",
        "\n",
        "        heapify(nums, heap_size, largest, coord)\n",
        "\n",
        "def attributeSort(nums,coord):  \n",
        "    n = len(nums)\n",
        "\n",
        "    for i in range(n, -1, -1):\n",
        "        heapify(nums, n, i, coord)\n",
        "\n",
        "    for i in range(n - 1, 0, -1):\n",
        "        nums[i], nums[0] = nums[0], nums[i]\n",
        "        heapify(nums, i, 0, coord)\n",
        "    \n",
        "    return nums"
      ],
      "execution_count": 46,
      "outputs": []
    },
    {
      "cell_type": "code",
      "metadata": {
        "colab": {
          "base_uri": "https://localhost:8080/"
        },
        "id": "DF0Zx_o1JBb8",
        "outputId": "7cff3070-6961-4ce8-8fc6-b22ce55e9838"
      },
      "source": [
        "test_coords = [{'x': 233,'y':255},{'x': 12,'y': 126},{'x': 5,'y':255}]  \n",
        "attributeSort(test_coords,'x')  "
      ],
      "execution_count": 47,
      "outputs": [
        {
          "output_type": "execute_result",
          "data": {
            "text/plain": [
              "[{'x': 5, 'y': 255}, {'x': 12, 'y': 126}, {'x': 233, 'y': 255}]"
            ]
          },
          "metadata": {},
          "execution_count": 47
        }
      ]
    },
    {
      "cell_type": "code",
      "metadata": {
        "colab": {
          "base_uri": "https://localhost:8080/",
          "height": 797
        },
        "id": "LqXE1Wj8JlSn",
        "outputId": "5d52a7d3-9465-4419-b71c-4f1dc051f537"
      },
      "source": [
        "img = cv2.imread(\"/content/drive/MyDrive/ColabFiles/Text_Recognition/HelloWorld.jpg\")\n",
        "coords = get_LettersCoord(img,False)\n",
        "img = cv2.cvtColor(img,cv2.COLOR_BGR2GRAY)\n",
        "cv2_imshow(img)"
      ],
      "execution_count": 49,
      "outputs": [
        {
          "output_type": "display_data",
          "data": {
            "image/png": "[encoded data removed]",
            "text/plain": [
              "<PIL.Image.Image image mode=L size=1080x780 at 0x7F262E68F8D0>"
            ]
          },
          "metadata": {}
        }
      ]
    },
    {
      "cell_type": "code",
      "metadata": {
        "colab": {
          "base_uri": "https://localhost:8080/"
        },
        "id": "RBDXC-rXJbEb",
        "outputId": "d28b8779-3893-459f-fda6-b341ef8482ef"
      },
      "source": [
        "coords = attributeSort(coords,'x')\n",
        "coords"
      ],
      "execution_count": 50,
      "outputs": [
        {
          "output_type": "execute_result",
          "data": {
            "text/plain": [
              "[{'h': 93, 'w': 90, 'x': 168, 'y': 250},\n",
              " {'h': 157, 'w': 78, 'x': 271, 'y': 243},\n",
              " {'h': 79, 'w': 36, 'x': 374, 'y': 244},\n",
              " {'h': 117, 'w': 67, 'x': 427, 'y': 200},\n",
              " {'h': 76, 'w': 49, 'x': 498, 'y': 233},\n",
              " {'h': 87, 'w': 58, 'x': 566, 'y': 228},\n",
              " {'h': 80, 'w': 78, 'x': 693, 'y': 228},\n",
              " {'h': 78, 'w': 43, 'x': 786, 'y': 225},\n",
              " {'h': 146, 'w': 76, 'x': 842, 'y': 227}]"
            ]
          },
          "metadata": {},
          "execution_count": 50
        }
      ]
    },
    {
      "cell_type": "code",
      "metadata": {
        "colab": {
          "base_uri": "https://localhost:8080/"
        },
        "id": "CzMDGW3hlcxE",
        "outputId": "7737cc31-3a8c-4c76-979f-e47737a8988c"
      },
      "source": [
        "arrDistance = []\n",
        "for i in range(len(coords)-1):\n",
        "  arrDistance.append(coords[i+1]['x'] - (coords[i]['x']+coords[i]['w']))\n",
        "medianDistance = arrDistance[len(arrDistance) // 2]\n",
        "\n",
        "spaces = []\n",
        "for i in range(len(coords)-1):\n",
        "  if (coords[i+1]['x'] - (coords[i]['x']+coords[i]['w']))/medianDistance > 1.7:\n",
        "    spaces.append(i)\n",
        "\n",
        "print(spaces)"
      ],
      "execution_count": 52,
      "outputs": [
        {
          "output_type": "stream",
          "name": "stdout",
          "text": [
            "[5]\n"
          ]
        }
      ]
    },
    {
      "cell_type": "code",
      "metadata": {
        "id": "IEfOKfYdJLjS"
      },
      "source": [
        "result = []\n",
        "\n",
        "for coord in coords:\n",
        "  #cv2_imshow(img[coord['y']-20:coord['y']+coord['h']+20,coord['x']-20:coord['x']+coord['w']+20])\n",
        "  let = np.array(img[coord['y']-20:coord['y']+coord['h']+20,coord['x']-20:coord['x']+coord['w']+20])\n",
        "  let = (let-127.5)/127.5\n",
        "  #cv2_imshow(letterPrepare(let,(64,64))*255)\n",
        "  let = letterPrepare(let,(64,64))\n",
        "  let = np.expand_dims(let,-1)\n",
        "  pos = np.argmax(model.predict(np.array([let])))\n",
        "  result.append(dic[str(pos)])"
      ],
      "execution_count": 53,
      "outputs": []
    },
    {
      "cell_type": "markdown",
      "metadata": {
        "id": "cNEhyxSbkdUW"
      },
      "source": [
        "Сбор и обработка пробного слова\n"
      ]
    },
    {
      "cell_type": "code",
      "metadata": {
        "id": "TV-Rv1-0cur-"
      },
      "source": [
        "import zipfile\n",
        "with zipfile.ZipFile('/content/drive/MyDrive/ColabFiles/Text_Recognition/autocorrect.zip', 'r') as zip_ref:\n",
        "  zip_ref.extractall('/content')"
      ],
      "execution_count": null,
      "outputs": []
    },
    {
      "cell_type": "code",
      "metadata": {
        "id": "7iJL9MTGdR7u",
        "colab": {
          "base_uri": "https://localhost:8080/"
        },
        "outputId": "e2e91f76-25b6-4051-854d-bbac2fb3a550"
      },
      "source": [
        "from autocorrect import Speller\n",
        "import difflib\n",
        "spell = Speller(lang='ru')"
      ],
      "execution_count": null,
      "outputs": [
        {
          "output_type": "stream",
          "name": "stdout",
          "text": [
            "dictionary for this language not found, downloading...\n",
            "__________________________________________________\n",
            ">>>>>>>>>>>>>>>>>>>>>>>>>>>>>>>>>>>>>>>>>>>>>>>>>>\n",
            "done!\n"
          ]
        }
      ]
    },
    {
      "cell_type": "code",
      "metadata": {
        "colab": {
          "base_uri": "https://localhost:8080/"
        },
        "id": "R7o2QYmdX9n7",
        "outputId": "9142925c-b334-4f2d-d954-844ebe3aa945"
      },
      "source": [
        "attributeSort(spell.autocorrect_word('рсчка'),0)"
      ],
      "execution_count": null,
      "outputs": [
        {
          "output_type": "execute_result",
          "data": {
            "text/plain": [
              "[(3, 'рсука'),\n",
              " (8, 'рсика'),\n",
              " (9, 'рэчка'),\n",
              " (15, 'рочка'),\n",
              " (32, 'рска'),\n",
              " (50, 'рачка'),\n",
              " (169, 'рська'),\n",
              " (1156, 'ручка'),\n",
              " (3985, 'речка')]"
            ]
          },
          "metadata": {},
          "execution_count": 138
        }
      ]
    },
    {
      "cell_type": "code",
      "metadata": {
        "colab": {
          "base_uri": "https://localhost:8080/"
        },
        "id": "Yq88i_3HKflz",
        "outputId": "fef9ed64-e902-47fa-8eea-f4a2bf49f6e2"
      },
      "source": [
        "result"
      ],
      "execution_count": null,
      "outputs": [
        {
          "output_type": "execute_result",
          "data": {
            "text/plain": [
              "['П', 'р', 'и', 'в', 'й', 'т', 'М', 'и', 'р']"
            ]
          },
          "metadata": {},
          "execution_count": 56
        }
      ]
    },
    {
      "cell_type": "code",
      "metadata": {
        "colab": {
          "base_uri": "https://localhost:8080/",
          "height": 36
        },
        "id": "5ZQlFnxcosvG",
        "outputId": "9c8ca160-1e6c-4370-9942-8908e08f7453"
      },
      "source": [
        "sent = ''\n",
        "for i in range(len(result)):\n",
        "  sent += result[i]\n",
        "  if i in spaces:\n",
        "    sent += ' '\n",
        "sent"
      ],
      "execution_count": null,
      "outputs": [
        {
          "output_type": "execute_result",
          "data": {
            "application/vnd.google.colaboratory.intrinsic+json": {
              "type": "string"
            },
            "text/plain": [
              "'Привйт Мир'"
            ]
          },
          "metadata": {},
          "execution_count": 63
        }
      ]
    },
    {
      "cell_type": "code",
      "metadata": {
        "colab": {
          "base_uri": "https://localhost:8080/"
        },
        "id": "1xuE9twiqZ3_",
        "outputId": "a80613cc-3ef2-4d91-a982-1ffa060ee9ec"
      },
      "source": [
        "candidates = attributeSort(spell.autocorrect_word(sent.split()[0]),0)\n",
        "candidates.reverse()\n",
        "candidates"
      ],
      "execution_count": null,
      "outputs": [
        {
          "output_type": "execute_result",
          "data": {
            "text/plain": [
              "[(1949, 'Привет'),\n",
              " (1799, 'приват'),\n",
              " (1698, 'привет'),\n",
              " (275, 'Приват'),\n",
              " (210, 'Прийт'),\n",
              " (24, 'привит')]"
            ]
          },
          "metadata": {},
          "execution_count": 67
        }
      ]
    },
    {
      "cell_type": "code",
      "metadata": {
        "colab": {
          "base_uri": "https://localhost:8080/"
        },
        "id": "oVy45xUyqDRl",
        "outputId": "786e4ca1-cb54-47ad-d798-d93826c33ef2"
      },
      "source": [
        "goodCandidates = []\n",
        "for i in candidates:\n",
        "  if len(i[1]) == len(sent.split()[0]):\n",
        "    goodCandidates.append(i[1])\n",
        "goodCandidates"
      ],
      "execution_count": null,
      "outputs": [
        {
          "output_type": "execute_result",
          "data": {
            "text/plain": [
              "['Привет', 'приват', 'привет', 'Приват', 'привит']"
            ]
          },
          "metadata": {},
          "execution_count": 68
        }
      ]
    },
    {
      "cell_type": "code",
      "metadata": {
        "id": "Vpul3UhssvJV"
      },
      "source": [
        "def similarity(s1, s2): #Нахождение коэффициента схожести между двумя строками\n",
        "  normalized1 = s1.lower()\n",
        "  normalized2 = s2.lower()\n",
        "  matcher = difflib.SequenceMatcher(None, normalized1, normalized2)\n",
        "  return matcher.ratio()"
      ],
      "execution_count": null,
      "outputs": []
    },
    {
      "cell_type": "code",
      "metadata": {
        "colab": {
          "base_uri": "https://localhost:8080/"
        },
        "id": "M2s4saVgs5Y4",
        "outputId": "6508e3da-d7e8-4bc8-834b-d9293a06c031"
      },
      "source": [
        "similarity('Паивфт','приват')"
      ],
      "execution_count": null,
      "outputs": [
        {
          "output_type": "execute_result",
          "data": {
            "text/plain": [
              "0.6666666666666666"
            ]
          },
          "metadata": {},
          "execution_count": 76
        }
      ]
    }
  ]
}